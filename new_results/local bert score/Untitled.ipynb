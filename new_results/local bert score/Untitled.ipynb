{
 "cells": [
  {
   "cell_type": "code",
   "execution_count": 3,
   "id": "6d6ec995-bdda-4520-9429-ea716abb7a23",
   "metadata": {},
   "outputs": [
    {
     "name": "stdout",
     "output_type": "stream",
     "text": [
      "Null values before replacement:\n",
      "bertscore_f1    0\n",
      "rougeL_f1       0\n",
      "dtype: int64\n",
      "\n",
      "Null values after replacement:\n",
      "bertscore_f1    0\n",
      "rougeL_f1       0\n",
      "dtype: int64\n",
      "\n",
      "✅ Cleaned file saved to: gpt4_auto_eval.xls\n"
     ]
    }
   ],
   "source": [
    "import pandas as pd\n",
    "\n",
    "# Load the GPT-4 evaluation file\n",
    "gpt4_file = \"gpt4_auto_eval.xls\"\n",
    "df = pd.read_csv(gpt4_file)\n",
    "\n",
    "# Columns to check\n",
    "score_columns = ['bertscore_f1', 'rougeL_f1']\n",
    "\n",
    "# Check for None/null values before replacement\n",
    "print(\"Null values before replacement:\")\n",
    "print(df[score_columns].isnull().sum())\n",
    "\n",
    "# Replace None/null values with 0\n",
    "df[score_columns] = df[score_columns].fillna(0)\n",
    "\n",
    "# Verify replacement\n",
    "print(\"\\nNull values after replacement:\")\n",
    "print(df[score_columns].isnull().sum())\n",
    "\n",
    "# Save the cleaned file\n",
    "df.to_csv(gpt4_file, index=False)\n",
    "print(f\"\\n✅ Cleaned file saved to: {gpt4_file}\")"
   ]
  },
  {
   "cell_type": "code",
   "execution_count": null,
   "id": "9d999ade-4ef9-483f-be64-5e7c30fbfb78",
   "metadata": {},
   "outputs": [],
   "source": []
  }
 ],
 "metadata": {
  "kernelspec": {
   "display_name": "Python (nlp-env)",
   "language": "python",
   "name": "nlp-env"
  },
  "language_info": {
   "codemirror_mode": {
    "name": "ipython",
    "version": 3
   },
   "file_extension": ".py",
   "mimetype": "text/x-python",
   "name": "python",
   "nbconvert_exporter": "python",
   "pygments_lexer": "ipython3",
   "version": "3.11.7"
  }
 },
 "nbformat": 4,
 "nbformat_minor": 5
}
